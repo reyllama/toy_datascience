{
 "cells": [
  {
   "cell_type": "markdown",
   "metadata": {},
   "source": [
    "## Synaptic Strength Initialization"
   ]
  },
  {
   "cell_type": "code",
   "execution_count": 24,
   "metadata": {},
   "outputs": [
    {
     "name": "stdout",
     "output_type": "stream",
     "text": [
      "[-0.15403012 -0.19227998 -0.52631427  0.42747769 -0.07632057 -0.29088057\n",
      " -0.08814504 -0.38002762 -0.11419482  0.17260809]\n"
     ]
    }
   ],
   "source": [
    "import numpy as np  \n",
    "\n",
    "dim_syn = 10\n",
    "\n",
    "w = np.random.normal(0.0, pow(dim_syn, -0.5), dim_syn)\n",
    "\n",
    "print(w)"
   ]
  },
  {
   "cell_type": "code",
   "execution_count": 25,
   "metadata": {},
   "outputs": [
    {
     "data": {
      "text/plain": [
       "0.8977202417781367"
      ]
     },
     "execution_count": 25,
     "metadata": {},
     "output_type": "execute_result"
    }
   ],
   "source": [
    "np.linalg.norm(w)"
   ]
  },
  {
   "cell_type": "code",
   "execution_count": 22,
   "metadata": {},
   "outputs": [
    {
     "name": "stdout",
     "output_type": "stream",
     "text": [
      "[[-0.04064273  0.17832745  0.49938595 -0.09017347]\n",
      " [ 0.28982163  0.5940022   0.24858679  0.21483297]\n",
      " [-0.79657223 -0.36468516 -0.24202511 -0.00962504]]\n"
     ]
    }
   ],
   "source": [
    "dim_syn = 12\n",
    "w = np.random.normal(0.0, pow(dim_syn, -0.5), (3,4))\n",
    "print(w)"
   ]
  },
  {
   "cell_type": "code",
   "execution_count": 23,
   "metadata": {},
   "outputs": [
    {
     "data": {
      "text/plain": [
       "1.2891645543239734"
      ]
     },
     "execution_count": 23,
     "metadata": {},
     "output_type": "execute_result"
    }
   ],
   "source": [
    "np.linalg.norm(w)"
   ]
  },
  {
   "cell_type": "markdown",
   "metadata": {},
   "source": [
    "## Dimension reduction via linear transformation"
   ]
  },
  {
   "cell_type": "code",
   "execution_count": 3,
   "metadata": {},
   "outputs": [
    {
     "name": "stdout",
     "output_type": "stream",
     "text": [
      "[[ 0  0  1 -1]\n",
      " [-1  2  0  0]]\n"
     ]
    }
   ],
   "source": [
    "w1 = np.array([[0,1,0,-1], [-1,1,1,0], [0,1,-1,0]])\n",
    "w2 = np.array([[1,0,-1], [0,1,1]])\n",
    "W = np.matmul(w2, w1)\n",
    "print(W)"
   ]
  },
  {
   "cell_type": "code",
   "execution_count": 4,
   "metadata": {},
   "outputs": [
    {
     "data": {
      "text/plain": [
       "array([-1,  3])"
      ]
     },
     "execution_count": 4,
     "metadata": {},
     "output_type": "execute_result"
    }
   ],
   "source": [
    "output = np.matmul(W, np.array([1,2,3,4]))\n",
    "output"
   ]
  },
  {
   "cell_type": "markdown",
   "metadata": {},
   "source": [
    "## Two-layer Perceptron for MNIST recognition"
   ]
  },
  {
   "cell_type": "code",
   "execution_count": 26,
   "metadata": {},
   "outputs": [],
   "source": [
    "import numpy as np\n",
    "import matplotlib.pyplot as plt"
   ]
  },
  {
   "cell_type": "code",
   "execution_count": 37,
   "metadata": {},
   "outputs": [],
   "source": [
    "class perceptron:\n",
    "    def __init__(self, input_dim, hidden_dim, output_dim, lr=0.01):\n",
    "        self.w1 = np.random.normal(0.0, pow(hidden_dim, -0.5), (input_dim, hidden_dim))\n",
    "        self.w2 = np.random.normal(0.0, pow(hidden_dim, -0.5), (hidden_dim, output_dim))\n",
    "        self.h = np.zeros((1, hidden_dim))\n",
    "        self.lr = lr\n",
    "        self.input_dim = input_dim\n",
    "        self.hidden_dim = hidden_dim\n",
    "        self.output_dim = output_dim\n",
    "        self.theta = 0\n",
    "        \n",
    "    def softmax(self, x):\n",
    "        e_x = np.exp(x-np.max(x))\n",
    "        return e_x / e_x.sum(axis=0)\n",
    "    \n",
    "    def sigmoid(self, x):\n",
    "        return 1 / (1+np.exp(-x))\n",
    "    \n",
    "    def feedforward(self, x):\n",
    "        a = x.astype(float)\n",
    "        b = self.w1.astype(float)\n",
    "        self.h = self.sigmoid(np.dot(a, b) - self.theta)\n",
    "        return self.sigmoid(np.dot(self.h, self.w2) - self.theta)\n",
    "    \n",
    "    def feedforward_upto_hidden(self, x):\n",
    "        return self.sigmoid(np.dot(x, self.w1)-self.theta)\n",
    "    \n",
    "    def bprop_w2(self, g, y):\n",
    "        q = (-2)*(g-y)*y*(1-y)\n",
    "        return np.dot(self.h.reshape(self.hidden_dim, 1), q.reshape(1, self.output_dim))\n",
    "    \n",
    "    def bprop_w1(self, g, y, x):\n",
    "        q1 = (-2)*(g-y)*y*(1-y)\n",
    "        q2 = np.dot(self.w2, q1)\n",
    "        return np.dot(x.reshape(self.input_dim, 1), q2*self.h*(1-self.h).reshape(1, self.hidden_dim))\n",
    "    \n",
    "    def training(self, input, target):\n",
    "        x = np.array(input).T\n",
    "        y = self.feedforward(x)\n",
    "        g = np.array(target).T\n",
    "        \n",
    "        self.w1 = self.w1 - self.lr * self.bprop_w1(g, y, x)    #### w1 먼저 update 해주어야 함!!!\n",
    "        self.w2 = self.w2 - self.lr * self.bprop_w2(g, y)"
   ]
  },
  {
   "cell_type": "code",
   "execution_count": 53,
   "metadata": {},
   "outputs": [],
   "source": [
    "#### Training\n",
    "\n",
    "input_dim = 784\n",
    "hidden_dim = 100\n",
    "output_dim = 10\n",
    "epoch = 10\n",
    "\n",
    "pct = perceptron(input_dim, hidden_dim, output_dim, lr=0.1)"
   ]
  },
  {
   "cell_type": "code",
   "execution_count": 54,
   "metadata": {},
   "outputs": [],
   "source": [
    "training_dataset_file = open(\"mnist_train_200.csv\", 'r')\n",
    "\n",
    "training_dataset_list = training_dataset_file.readlines()\n",
    "training_dataset_file.close()\n",
    "input_list = list()\n",
    "\n",
    "for k in range(epoch):\n",
    "    pct.lr = pct.lr * 0.8    #### lr 안줄이면 최근에 배운것을 중요하게 생각해서 과거 배움을 지워버릴 수 있음\n",
    "    for i in training_dataset_list:\n",
    "        all_values = i.split(',')\n",
    "        inputs = (np.asfarray(all_values[1:])/255.0*0.99) + 0.01    #### 흰색 부분이라고 해서 0을 줘버리면 x*w1*w2 하는데 영향력이 아예 0\n",
    "                                                                    #### 최소 0.01, 최대 1로 해서 아무리 작은 부분이라도 영향은 주게끔\n",
    "        input_list.append(inputs)\n",
    "        \n",
    "        targets = np.zeros(output_dim) + 0.01                       #### 역시 최솟값으로 0.01 사용\n",
    "        targets[int(all_values[0])] = 0.99                          #### 실제 손글씨 label 값은 0.99 로 둔다.\n",
    "        \n",
    "        pct.training(inputs, targets)\n",
    "        \n",
    "#### all_values[0]은 그 픽셀 숫자의 Label / all_values[1:]은 각 픽셀값"
   ]
  },
  {
   "cell_type": "code",
   "execution_count": 55,
   "metadata": {},
   "outputs": [
    {
     "name": "stdout",
     "output_type": "stream",
     "text": [
      "7\n"
     ]
    },
    {
     "name": "stderr",
     "output_type": "stream",
     "text": [
      "C:\\Users\\rin46\\Anaconda3\\envs\\py3\\lib\\site-packages\\ipykernel_launcher.py:17: RuntimeWarning: overflow encountered in exp\n"
     ]
    },
    {
     "data": {
      "text/plain": [
       "array([0.04650198, 0.00256618, 0.1599598 , 0.26068124, 0.03207507,\n",
       "       0.03635573, 0.00616038, 0.87839741, 0.1174265 , 0.48496787])"
      ]
     },
     "execution_count": 55,
     "metadata": {},
     "output_type": "execute_result"
    }
   ],
   "source": [
    "test_dataset_file = open(\"mnist_test_200.csv\", 'r')\n",
    "\n",
    "test_dataset_list = test_dataset_file.readlines()\n",
    "test_dataset_file.close()\n",
    "output_list = list()\n",
    "\n",
    "all_values = test_dataset_list[0].split(',')\n",
    "print(all_values[0])\n",
    "pct.feedforward(np.asfarray(all_values[1:]))"
   ]
  },
  {
   "cell_type": "code",
   "execution_count": 56,
   "metadata": {},
   "outputs": [
    {
     "name": "stdout",
     "output_type": "stream",
     "text": [
      "prediction fails, (target, prediction) =  4 9\n",
      "Prediction =  [0.02938371 0.01873851 0.0495771  0.1601736  0.2685326  0.09269216\n",
      " 0.03449607 0.17802404 0.10382282 0.33408578]\n",
      "prediction fails, (target, prediction) =  5 2\n",
      "Prediction =  [0.07491281 0.05501169 0.26945834 0.03270353 0.23445681 0.08912397\n",
      " 0.14317891 0.02170267 0.0624403  0.03388016]\n",
      "prediction fails, (target, prediction) =  6 2\n",
      "Prediction =  [0.1075695  0.04924796 0.21728521 0.06765996 0.13100637 0.08197677\n",
      " 0.03211025 0.08920754 0.10989376 0.08059359]\n",
      "prediction fails, (target, prediction) =  5 0\n",
      "Prediction =  [0.29229947 0.02822569 0.06245026 0.18654879 0.05357759 0.07437056\n",
      " 0.03778161 0.11181116 0.14131726 0.06656206]\n",
      "prediction fails, (target, prediction) =  6 2\n",
      "Prediction =  [0.02425408 0.1644668  0.22195513 0.04195649 0.158459   0.07121968\n",
      " 0.07944928 0.09878578 0.09815744 0.05473253]\n",
      "prediction fails, (target, prediction) =  5 6\n",
      "Prediction =  [0.07080429 0.04105004 0.02423679 0.16606242 0.10644312 0.14379037\n",
      " 0.17141451 0.02745374 0.09865404 0.10541218]\n",
      "prediction fails, (target, prediction) =  4 0\n",
      "Prediction =  [0.36322964 0.0214055  0.16385845 0.01074381 0.26967873 0.09598743\n",
      " 0.10783409 0.08333394 0.08812879 0.06398582]\n",
      "prediction fails, (target, prediction) =  7 2\n",
      "Prediction =  [0.02420623 0.02928878 0.35765421 0.11594669 0.04841311 0.06746504\n",
      " 0.03884585 0.3356885  0.07894088 0.3020626 ]\n",
      "prediction fails, (target, prediction) =  2 3\n",
      "Prediction =  [0.05298493 0.17288656 0.23245356 0.23333231 0.01425558 0.11257194\n",
      " 0.08281482 0.04267053 0.15855282 0.03176166]\n",
      "prediction fails, (target, prediction) =  4 9\n",
      "Prediction =  [0.00810134 0.08251499 0.0809524  0.0568588  0.398288   0.06027137\n",
      " 0.02847332 0.1636744  0.10833544 0.45951923]\n",
      "prediction fails, (target, prediction) =  5 3\n",
      "Prediction =  [0.16024635 0.03150536 0.05086304 0.4355617  0.08667144 0.12539252\n",
      " 0.14112836 0.01788949 0.12004428 0.08689419]\n",
      "prediction fails, (target, prediction) =  5 4\n",
      "Prediction =  [0.21602053 0.02245285 0.01818822 0.09099439 0.30288458 0.10546834\n",
      " 0.0582176  0.05438098 0.04484616 0.17173178]\n",
      "prediction fails, (target, prediction) =  5 3\n",
      "Prediction =  [0.14108758 0.03335599 0.05647107 0.18746617 0.08441652 0.09063577\n",
      " 0.04833559 0.06522962 0.09289318 0.08720163]\n",
      "prediction fails, (target, prediction) =  6 2\n",
      "Prediction =  [0.06033572 0.06858747 0.2729967  0.0676024  0.17793764 0.06858515\n",
      " 0.04527997 0.08847732 0.10412532 0.04300703]\n",
      "prediction fails, (target, prediction) =  5 4\n",
      "Prediction =  [0.07401285 0.0823222  0.04936897 0.02011076 0.21812671 0.1671393\n",
      " 0.03696019 0.20355587 0.07389898 0.12327911]\n",
      "prediction fails, (target, prediction) =  8 2\n",
      "Prediction =  [0.10486427 0.03014933 0.31978251 0.03647365 0.086056   0.10299917\n",
      " 0.25339049 0.04157311 0.17027839 0.05912748]\n",
      "prediction fails, (target, prediction) =  3 2\n",
      "Prediction =  [0.01149801 0.12662125 0.359372   0.19127199 0.067553   0.11861462\n",
      " 0.09812796 0.06149703 0.15442272 0.15366996]\n",
      "prediction fails, (target, prediction) =  4 9\n",
      "Prediction =  [0.01562924 0.08109382 0.05052104 0.17058385 0.18736532 0.13321339\n",
      " 0.16074499 0.06973597 0.0913089  0.3242628 ]\n",
      "prediction fails, (target, prediction) =  6 2\n",
      "Prediction =  [0.0481333  0.05943835 0.29267085 0.06192024 0.17080699 0.07342281\n",
      " 0.03174661 0.19734267 0.08946045 0.03237714]\n",
      "prediction fails, (target, prediction) =  9 8\n",
      "Prediction =  [0.02216003 0.17381438 0.08402177 0.04450913 0.02916231 0.09064535\n",
      " 0.03159851 0.27712293 0.34119333 0.21030512]\n",
      "prediction fails, (target, prediction) =  2 7\n",
      "Prediction =  [0.01514541 0.10779004 0.3175742  0.03875332 0.06432727 0.08230671\n",
      " 0.05947561 0.38719918 0.06437408 0.15410549]\n",
      "prediction fails, (target, prediction) =  7 9\n",
      "Prediction =  [0.06631256 0.02292934 0.02758508 0.07829978 0.287909   0.08320655\n",
      " 0.0617873  0.31917036 0.0402623  0.44644189]\n",
      "prediction fails, (target, prediction) =  7 9\n",
      "Prediction =  [0.04291987 0.02460982 0.0700032  0.07647339 0.14108373 0.06926292\n",
      " 0.02577965 0.42066964 0.08032037 0.45726774]\n",
      "prediction fails, (target, prediction) =  8 4\n",
      "Prediction =  [0.03393888 0.06242844 0.0746862  0.06255002 0.27182408 0.09999663\n",
      " 0.04863094 0.05435883 0.16619133 0.10140172]\n",
      "prediction fails, (target, prediction) =  6 4\n",
      "Prediction =  [0.03195286 0.02781027 0.32366256 0.02805768 0.36937366 0.06998888\n",
      " 0.36611892 0.14369093 0.05187366 0.12839511]\n",
      "prediction fails, (target, prediction) =  9 4\n",
      "Prediction =  [0.0131296  0.12649895 0.04715483 0.04808318 0.29577278 0.13092638\n",
      " 0.10037246 0.11274301 0.09929367 0.15842653]\n",
      "prediction fails, (target, prediction) =  7 1\n",
      "Prediction =  [0.00901916 0.38015    0.06753237 0.18459575 0.06517749 0.09740225\n",
      " 0.05866315 0.10003777 0.11216436 0.19157829]\n",
      "prediction fails, (target, prediction) =  9 4\n",
      "Prediction =  [0.04259924 0.0149558  0.14497454 0.09716591 0.39413378 0.04787377\n",
      " 0.06203438 0.14299859 0.05892441 0.17614493]\n",
      "prediction fails, (target, prediction) =  6 2\n",
      "Prediction =  [0.01986446 0.10339101 0.25292673 0.05016605 0.19773105 0.06904028\n",
      " 0.13037027 0.09093456 0.12402929 0.0955253 ]\n",
      "prediction fails, (target, prediction) =  5 3\n",
      "Prediction =  [0.13174954 0.02075251 0.03028111 0.39170389 0.09510656 0.08047007\n",
      " 0.02355724 0.05556126 0.10091401 0.14459755]\n",
      "prediction fails, (target, prediction) =  9 4\n",
      "Prediction =  [0.03469451 0.05011982 0.15788731 0.152193   0.26294106 0.07406117\n",
      " 0.08986334 0.06569183 0.04333931 0.05935266]\n",
      "prediction fails, (target, prediction) =  4 9\n",
      "Prediction =  [0.07017967 0.01291443 0.12341479 0.01864379 0.3123598  0.07143917\n",
      " 0.10582019 0.17778205 0.09221353 0.37100266]\n",
      "prediction fails, (target, prediction) =  7 1\n",
      "Prediction =  [0.00500773 0.55782891 0.12251179 0.111813   0.02768808 0.09819312\n",
      " 0.03117633 0.12626998 0.16253036 0.13899959]\n",
      "prediction fails, (target, prediction) =  7 9\n",
      "Prediction =  [0.01080412 0.17750551 0.1551621  0.06696595 0.10379059 0.08872386\n",
      " 0.04866986 0.20380423 0.10800191 0.21585396]\n",
      "prediction fails, (target, prediction) =  4 9\n",
      "Prediction =  [0.03029002 0.03804804 0.05467908 0.021985   0.19689173 0.08524568\n",
      " 0.35194457 0.11262686 0.10177337 0.40580203]\n",
      "prediction fails, (target, prediction) =  4 9\n",
      "Prediction =  [0.01164751 0.05918689 0.0556179  0.13365163 0.20039027 0.10206409\n",
      " 0.11845428 0.10900138 0.14139649 0.43010401]\n",
      "prediction fails, (target, prediction) =  5 3\n",
      "Prediction =  [0.12002234 0.01880718 0.06060817 0.65444253 0.10616695 0.08431196\n",
      " 0.07400184 0.01451654 0.10363257 0.0763062 ]\n",
      "prediction fails, (target, prediction) =  4 6\n",
      "Prediction =  [0.05043068 0.04071011 0.05624899 0.01593883 0.24794419 0.08443788\n",
      " 0.36025717 0.12105479 0.10025381 0.15075258]\n",
      "prediction fails, (target, prediction) =  7 9\n",
      "Prediction =  [0.01509218 0.07599768 0.083232   0.22496308 0.08648739 0.07949334\n",
      " 0.04267872 0.20223175 0.0920634  0.32300518]\n",
      "prediction fails, (target, prediction) =  9 4\n",
      "Prediction =  [0.03579391 0.0613151  0.0865146  0.08132399 0.23900757 0.07289527\n",
      " 0.1648195  0.06765062 0.10074731 0.18365094]\n",
      "prediction fails, (target, prediction) =  0 2\n",
      "Prediction =  [0.28116007 0.01560923 0.52319048 0.17474747 0.03236262 0.06588084\n",
      " 0.02960552 0.18963864 0.06294701 0.03012492]\n",
      "prediction fails, (target, prediction) =  5 0\n",
      "Prediction =  [0.2110135  0.05333591 0.02650485 0.04366814 0.1223729  0.10922865\n",
      " 0.0273466  0.07451189 0.08802674 0.1966117 ]\n",
      "prediction fails, (target, prediction) =  5 3\n",
      "Prediction =  [0.13534022 0.03379247 0.03479374 0.2301667  0.08027901 0.10760998\n",
      " 0.0617716  0.02955278 0.13358616 0.14211123]\n",
      "prediction fails, (target, prediction) =  5 3\n",
      "Prediction =  [0.23806125 0.01723962 0.15239961 0.38835891 0.03378151 0.0723138\n",
      " 0.23209959 0.0194351  0.09996663 0.0513289 ]\n",
      "prediction fails, (target, prediction) =  7 2\n",
      "Prediction =  [0.0476902  0.01672061 0.49874281 0.05835534 0.08579831 0.05401373\n",
      " 0.04732031 0.28944693 0.11601133 0.18957489]\n",
      "prediction fails, (target, prediction) =  8 9\n",
      "Prediction =  [0.05288065 0.04988315 0.08794044 0.04748441 0.06853137 0.06049606\n",
      " 0.08592055 0.05171198 0.24194671 0.2591126 ]\n",
      "prediction fails, (target, prediction) =  2 4\n",
      "Prediction =  [0.05080112 0.09236725 0.07825262 0.08069734 0.20866352 0.08887534\n",
      " 0.07655533 0.06391674 0.12764997 0.13056989]\n",
      "prediction fails, (target, prediction) =  9 4\n",
      "Prediction =  [0.02988714 0.02612748 0.06426286 0.12593465 0.33247462 0.057528\n",
      " 0.14528098 0.042361   0.07217229 0.22443605]\n",
      "prediction fails, (target, prediction) =  9 2\n",
      "Prediction =  [0.0638808  0.03612662 0.25128775 0.14015342 0.15401007 0.05905262\n",
      " 0.02759241 0.11817437 0.0797127  0.08102918]\n",
      "prediction fails, (target, prediction) =  5 0\n",
      "Prediction =  [0.22557613 0.03399702 0.03935575 0.03503723 0.21330852 0.14442629\n",
      " 0.05361216 0.06704632 0.0702039  0.20570667]\n",
      "prediction fails, (target, prediction) =  5 3\n",
      "Prediction =  [0.26402596 0.02939752 0.09514842 0.34858937 0.05737726 0.10477481\n",
      " 0.04252065 0.02865877 0.11513939 0.12092996]\n",
      "prediction fails, (target, prediction) =  5 9\n",
      "Prediction =  [0.11157553 0.05015857 0.01968499 0.09307111 0.15393715 0.10354569\n",
      " 0.06044668 0.03590454 0.13890556 0.21099789]\n",
      "prediction fails, (target, prediction) =  6 4\n",
      "Prediction =  [0.04376804 0.0384808  0.17726718 0.034967   0.38012505 0.07022431\n",
      " 0.32362582 0.08148301 0.05415179 0.09726355]\n",
      "prediction fails, (target, prediction) =  3 2\n",
      "Prediction =  [0.10663082 0.03836309 0.25667297 0.23200327 0.03571387 0.07432067\n",
      " 0.06793687 0.14064773 0.06632701 0.0442269 ]\n",
      "prediction fails, (target, prediction) =  4 9\n",
      "Prediction =  [0.01327828 0.04637228 0.09001873 0.05632629 0.34238515 0.1015876\n",
      " 0.06302225 0.2479164  0.09497242 0.41925449]\n",
      "prediction fails, (target, prediction) =  5 3\n",
      "Prediction =  [0.33985388 0.01608635 0.04916047 0.42246132 0.06033057 0.09133718\n",
      " 0.02697049 0.02033081 0.12665694 0.07851372]\n",
      "prediction fails, (target, prediction) =  6 4\n",
      "Prediction =  [0.01219657 0.07319358 0.14028751 0.03642232 0.27844861 0.07260508\n",
      " 0.18812064 0.11937841 0.11345028 0.13043051]\n",
      "prediction fails, (target, prediction) =  5 3\n",
      "Prediction =  [0.25076332 0.01918676 0.08974235 0.35820168 0.03793785 0.07117778\n",
      " 0.13027116 0.03580642 0.12701706 0.05874995]\n",
      "prediction fails, (target, prediction) =  5 4\n",
      "Prediction =  [0.02794233 0.1147441  0.06959934 0.17526225 0.21126149 0.1692102\n",
      " 0.07827502 0.10078531 0.081244   0.14531995]\n",
      "prediction fails, (target, prediction) =  4 9\n",
      "Prediction =  [0.02808409 0.03259614 0.05730525 0.16868504 0.29094329 0.08874017\n",
      " 0.10958309 0.09024467 0.07022051 0.44279819]\n",
      "prediction fails, (target, prediction) =  2 3\n",
      "Prediction =  [0.23773771 0.03322939 0.38973731 0.43049241 0.03334991 0.10679266\n",
      " 0.0228537  0.01913054 0.12801782 0.02431544]\n",
      "prediction fails, (target, prediction) =  7 1\n",
      "Prediction =  [0.01337016 0.25287527 0.1219781  0.13323166 0.06942702 0.10687056\n",
      " 0.04162621 0.11493487 0.11037563 0.10884851]\n",
      "prediction fails, (target, prediction) =  8 6\n",
      "Prediction =  [0.03498699 0.04000625 0.09458229 0.17501822 0.14263644 0.08369987\n",
      " 0.25834852 0.03558499 0.16142127 0.11793224]\n",
      "prediction fails, (target, prediction) =  8 3\n",
      "Prediction =  [0.01899028 0.0914208  0.14144177 0.26664146 0.05667544 0.0686445\n",
      " 0.17697388 0.0279197  0.25362124 0.07619901]\n",
      "prediction fails, (target, prediction) =  5 9\n",
      "Prediction =  [0.09380939 0.12596336 0.04299477 0.08053304 0.08251961 0.13234653\n",
      " 0.09153686 0.04193241 0.10265083 0.1566937 ]\n",
      "prediction fails, (target, prediction) =  8 3\n",
      "Prediction =  [0.05601968 0.03551004 0.08570984 0.20885771 0.12173792 0.08549166\n",
      " 0.07257261 0.05084674 0.20423318 0.09257375]\n",
      "prediction fails, (target, prediction) =  5 3\n",
      "Prediction =  [0.17107247 0.02799194 0.10363678 0.48870134 0.05854398 0.0764494\n",
      " 0.05244223 0.01809087 0.1076328  0.09286689]\n"
     ]
    },
    {
     "name": "stdout",
     "output_type": "stream",
     "text": [
      "prediction fails, (target, prediction) =  9 3\n",
      "Prediction =  [0.00939381 0.06278498 0.06575841 0.33828955 0.23367267 0.09714177\n",
      " 0.07635252 0.09393016 0.06510434 0.19223357]\n",
      "prediction fails, (target, prediction) =  3 1\n",
      "Prediction =  [0.0163164  0.19580884 0.09618805 0.17603263 0.15556401 0.12107537\n",
      " 0.06550956 0.09172462 0.09652267 0.09330713]\n",
      "prediction fails, (target, prediction) =  4 9\n",
      "Prediction =  [0.02731187 0.01683149 0.04847847 0.07586327 0.30583931 0.08997199\n",
      " 0.10779428 0.15085545 0.11438831 0.50439392]\n",
      "Recognition error rate =  0.35\n"
     ]
    },
    {
     "data": {
      "image/png": "[encoded data removed]",
      "text/plain": [
       "<Figure size 432x288 with 1 Axes>"
      ]
     },
     "metadata": {
      "needs_background": "light"
     },
     "output_type": "display_data"
    }
   ],
   "source": [
    "success = 0\n",
    "failure = 0\n",
    "\n",
    "for i in test_dataset_list:\n",
    "    all_values = i.split(',')\n",
    "    target = int(all_values[0])\n",
    "    \n",
    "    all_values_normalized = (np.asfarray(all_values[1:])/255.0*0.99) + 0.01\n",
    "    prediction_list = pct.feedforward(np.asfarray(all_values_normalized))\n",
    "    prediction = np.argmax(prediction_list)\n",
    "    \n",
    "    if target == prediction:\n",
    "        success += 1\n",
    "        \n",
    "    else:\n",
    "        failure += 1\n",
    "        print(\"prediction fails, (target, prediction) = \", target, prediction)\n",
    "        print(\"Prediction = \", prediction_list)\n",
    "        im_array = np.asfarray(all_values_normalized).reshape((28,28))\n",
    "        plt.imshow(im_array, cmap='Greys', interpolation='None')\n",
    "        \n",
    "print(\"Recognition error rate = \", (failure/(success+failure)))"
   ]
  },
  {
   "cell_type": "code",
   "execution_count": null,
   "metadata": {},
   "outputs": [],
   "source": []
  }
 ],
 "metadata": {
  "kernelspec": {
   "display_name": "Python 3",
   "language": "python",
   "name": "python3"
  },
  "language_info": {
   "codemirror_mode": {
    "name": "ipython",
    "version": 3
   },
   "file_extension": ".py",
   "mimetype": "text/x-python",
   "name": "python",
   "nbconvert_exporter": "python",
   "pygments_lexer": "ipython3",
   "version": "3.7.2"
  }
 },
 "nbformat": 4,
 "nbformat_minor": 2
}
