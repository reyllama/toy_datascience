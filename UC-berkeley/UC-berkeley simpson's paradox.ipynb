{
 "cells": [
  {
   "cell_type": "code",
   "execution_count": 1,
   "metadata": {},
   "outputs": [],
   "source": [
    "import numpy as np\n",
    "import pandas as pd"
   ]
  },
  {
   "cell_type": "code",
   "execution_count": 2,
   "metadata": {},
   "outputs": [
    {
     "data": {
      "text/html": [
       "<div>\n",
       "<style scoped>\n",
       "    .dataframe tbody tr th:only-of-type {\n",
       "        vertical-align: middle;\n",
       "    }\n",
       "\n",
       "    .dataframe tbody tr th {\n",
       "        vertical-align: top;\n",
       "    }\n",
       "\n",
       "    .dataframe thead th {\n",
       "        text-align: right;\n",
       "    }\n",
       "</style>\n",
       "<table border=\"1\" class=\"dataframe\">\n",
       "  <thead>\n",
       "    <tr style=\"text-align: right;\">\n",
       "      <th></th>\n",
       "      <th>Admit</th>\n",
       "      <th>Gender</th>\n",
       "      <th>Dept</th>\n",
       "      <th>Freq</th>\n",
       "    </tr>\n",
       "  </thead>\n",
       "  <tbody>\n",
       "    <tr>\n",
       "      <th>0</th>\n",
       "      <td>Admitted</td>\n",
       "      <td>Male</td>\n",
       "      <td>A</td>\n",
       "      <td>512</td>\n",
       "    </tr>\n",
       "    <tr>\n",
       "      <th>1</th>\n",
       "      <td>Rejected</td>\n",
       "      <td>Male</td>\n",
       "      <td>A</td>\n",
       "      <td>313</td>\n",
       "    </tr>\n",
       "    <tr>\n",
       "      <th>2</th>\n",
       "      <td>Admitted</td>\n",
       "      <td>Female</td>\n",
       "      <td>A</td>\n",
       "      <td>89</td>\n",
       "    </tr>\n",
       "    <tr>\n",
       "      <th>3</th>\n",
       "      <td>Rejected</td>\n",
       "      <td>Female</td>\n",
       "      <td>A</td>\n",
       "      <td>19</td>\n",
       "    </tr>\n",
       "    <tr>\n",
       "      <th>4</th>\n",
       "      <td>Admitted</td>\n",
       "      <td>Male</td>\n",
       "      <td>B</td>\n",
       "      <td>353</td>\n",
       "    </tr>\n",
       "  </tbody>\n",
       "</table>\n",
       "</div>"
      ],
      "text/plain": [
       "      Admit  Gender Dept  Freq\n",
       "0  Admitted    Male    A   512\n",
       "1  Rejected    Male    A   313\n",
       "2  Admitted  Female    A    89\n",
       "3  Rejected  Female    A    19\n",
       "4  Admitted    Male    B   353"
      ]
     },
     "execution_count": 2,
     "metadata": {},
     "output_type": "execute_result"
    }
   ],
   "source": [
    "berkeley = pd.read_csv('berkeley.csv', engine=\"python\")\n",
    "berkeley.head()"
   ]
  },
  {
   "cell_type": "code",
   "execution_count": 3,
   "metadata": {},
   "outputs": [
    {
     "data": {
      "text/html": [
       "<div>\n",
       "<style scoped>\n",
       "    .dataframe tbody tr th:only-of-type {\n",
       "        vertical-align: middle;\n",
       "    }\n",
       "\n",
       "    .dataframe tbody tr th {\n",
       "        vertical-align: top;\n",
       "    }\n",
       "\n",
       "    .dataframe thead th {\n",
       "        text-align: right;\n",
       "    }\n",
       "</style>\n",
       "<table border=\"1\" class=\"dataframe\">\n",
       "  <thead>\n",
       "    <tr style=\"text-align: right;\">\n",
       "      <th></th>\n",
       "      <th>Admit</th>\n",
       "      <th>Gender</th>\n",
       "      <th>Dept</th>\n",
       "      <th>Freq</th>\n",
       "    </tr>\n",
       "  </thead>\n",
       "  <tbody>\n",
       "    <tr>\n",
       "      <th>0</th>\n",
       "      <td>Admitted</td>\n",
       "      <td>Male</td>\n",
       "      <td>A</td>\n",
       "      <td>512</td>\n",
       "    </tr>\n",
       "    <tr>\n",
       "      <th>1</th>\n",
       "      <td>Rejected</td>\n",
       "      <td>Male</td>\n",
       "      <td>A</td>\n",
       "      <td>313</td>\n",
       "    </tr>\n",
       "    <tr>\n",
       "      <th>2</th>\n",
       "      <td>Admitted</td>\n",
       "      <td>Female</td>\n",
       "      <td>A</td>\n",
       "      <td>89</td>\n",
       "    </tr>\n",
       "    <tr>\n",
       "      <th>3</th>\n",
       "      <td>Rejected</td>\n",
       "      <td>Female</td>\n",
       "      <td>A</td>\n",
       "      <td>19</td>\n",
       "    </tr>\n",
       "    <tr>\n",
       "      <th>4</th>\n",
       "      <td>Admitted</td>\n",
       "      <td>Male</td>\n",
       "      <td>B</td>\n",
       "      <td>353</td>\n",
       "    </tr>\n",
       "    <tr>\n",
       "      <th>5</th>\n",
       "      <td>Rejected</td>\n",
       "      <td>Male</td>\n",
       "      <td>B</td>\n",
       "      <td>207</td>\n",
       "    </tr>\n",
       "    <tr>\n",
       "      <th>6</th>\n",
       "      <td>Admitted</td>\n",
       "      <td>Female</td>\n",
       "      <td>B</td>\n",
       "      <td>17</td>\n",
       "    </tr>\n",
       "    <tr>\n",
       "      <th>7</th>\n",
       "      <td>Rejected</td>\n",
       "      <td>Female</td>\n",
       "      <td>B</td>\n",
       "      <td>8</td>\n",
       "    </tr>\n",
       "    <tr>\n",
       "      <th>8</th>\n",
       "      <td>Admitted</td>\n",
       "      <td>Male</td>\n",
       "      <td>C</td>\n",
       "      <td>120</td>\n",
       "    </tr>\n",
       "    <tr>\n",
       "      <th>9</th>\n",
       "      <td>Rejected</td>\n",
       "      <td>Male</td>\n",
       "      <td>C</td>\n",
       "      <td>205</td>\n",
       "    </tr>\n",
       "    <tr>\n",
       "      <th>10</th>\n",
       "      <td>Admitted</td>\n",
       "      <td>Female</td>\n",
       "      <td>C</td>\n",
       "      <td>202</td>\n",
       "    </tr>\n",
       "    <tr>\n",
       "      <th>11</th>\n",
       "      <td>Rejected</td>\n",
       "      <td>Female</td>\n",
       "      <td>C</td>\n",
       "      <td>391</td>\n",
       "    </tr>\n",
       "    <tr>\n",
       "      <th>12</th>\n",
       "      <td>Admitted</td>\n",
       "      <td>Male</td>\n",
       "      <td>D</td>\n",
       "      <td>138</td>\n",
       "    </tr>\n",
       "    <tr>\n",
       "      <th>13</th>\n",
       "      <td>Rejected</td>\n",
       "      <td>Male</td>\n",
       "      <td>D</td>\n",
       "      <td>279</td>\n",
       "    </tr>\n",
       "    <tr>\n",
       "      <th>14</th>\n",
       "      <td>Admitted</td>\n",
       "      <td>Female</td>\n",
       "      <td>D</td>\n",
       "      <td>131</td>\n",
       "    </tr>\n",
       "    <tr>\n",
       "      <th>15</th>\n",
       "      <td>Rejected</td>\n",
       "      <td>Female</td>\n",
       "      <td>D</td>\n",
       "      <td>244</td>\n",
       "    </tr>\n",
       "    <tr>\n",
       "      <th>16</th>\n",
       "      <td>Admitted</td>\n",
       "      <td>Male</td>\n",
       "      <td>E</td>\n",
       "      <td>53</td>\n",
       "    </tr>\n",
       "    <tr>\n",
       "      <th>17</th>\n",
       "      <td>Rejected</td>\n",
       "      <td>Male</td>\n",
       "      <td>E</td>\n",
       "      <td>138</td>\n",
       "    </tr>\n",
       "    <tr>\n",
       "      <th>18</th>\n",
       "      <td>Admitted</td>\n",
       "      <td>Female</td>\n",
       "      <td>E</td>\n",
       "      <td>94</td>\n",
       "    </tr>\n",
       "    <tr>\n",
       "      <th>19</th>\n",
       "      <td>Rejected</td>\n",
       "      <td>Female</td>\n",
       "      <td>E</td>\n",
       "      <td>299</td>\n",
       "    </tr>\n",
       "    <tr>\n",
       "      <th>20</th>\n",
       "      <td>Admitted</td>\n",
       "      <td>Male</td>\n",
       "      <td>F</td>\n",
       "      <td>22</td>\n",
       "    </tr>\n",
       "    <tr>\n",
       "      <th>21</th>\n",
       "      <td>Rejected</td>\n",
       "      <td>Male</td>\n",
       "      <td>F</td>\n",
       "      <td>351</td>\n",
       "    </tr>\n",
       "    <tr>\n",
       "      <th>22</th>\n",
       "      <td>Admitted</td>\n",
       "      <td>Female</td>\n",
       "      <td>F</td>\n",
       "      <td>24</td>\n",
       "    </tr>\n",
       "    <tr>\n",
       "      <th>23</th>\n",
       "      <td>Rejected</td>\n",
       "      <td>Female</td>\n",
       "      <td>F</td>\n",
       "      <td>317</td>\n",
       "    </tr>\n",
       "  </tbody>\n",
       "</table>\n",
       "</div>"
      ],
      "text/plain": [
       "       Admit  Gender Dept  Freq\n",
       "0   Admitted    Male    A   512\n",
       "1   Rejected    Male    A   313\n",
       "2   Admitted  Female    A    89\n",
       "3   Rejected  Female    A    19\n",
       "4   Admitted    Male    B   353\n",
       "5   Rejected    Male    B   207\n",
       "6   Admitted  Female    B    17\n",
       "7   Rejected  Female    B     8\n",
       "8   Admitted    Male    C   120\n",
       "9   Rejected    Male    C   205\n",
       "10  Admitted  Female    C   202\n",
       "11  Rejected  Female    C   391\n",
       "12  Admitted    Male    D   138\n",
       "13  Rejected    Male    D   279\n",
       "14  Admitted  Female    D   131\n",
       "15  Rejected  Female    D   244\n",
       "16  Admitted    Male    E    53\n",
       "17  Rejected    Male    E   138\n",
       "18  Admitted  Female    E    94\n",
       "19  Rejected  Female    E   299\n",
       "20  Admitted    Male    F    22\n",
       "21  Rejected    Male    F   351\n",
       "22  Admitted  Female    F    24\n",
       "23  Rejected  Female    F   317"
      ]
     },
     "execution_count": 3,
     "metadata": {},
     "output_type": "execute_result"
    }
   ],
   "source": [
    "berkeley"
   ]
  },
  {
   "cell_type": "code",
   "execution_count": 6,
   "metadata": {},
   "outputs": [
    {
     "data": {
      "text/plain": [
       "0    1\n",
       "1    0\n",
       "2    1\n",
       "3    0\n",
       "4    1\n",
       "Name: number_Admit, dtype: int64"
      ]
     },
     "execution_count": 6,
     "metadata": {},
     "output_type": "execute_result"
    }
   ],
   "source": [
    "def admit(x):\n",
    "    if x ==\"Admitted\":\n",
    "        return 1\n",
    "    else:\n",
    "        return 0\n",
    "    \n",
    "berkeley['number_Admit'] = berkeley['Admit'].apply(admit)\n",
    "berkeley['number_Admit'].head()"
   ]
  },
  {
   "cell_type": "code",
   "execution_count": 8,
   "metadata": {},
   "outputs": [
    {
     "data": {
      "text/plain": [
       "Gender\n",
       "Female    0.5\n",
       "Male      0.5\n",
       "Name: number_Admit, dtype: float64"
      ]
     },
     "execution_count": 8,
     "metadata": {},
     "output_type": "execute_result"
    }
   ],
   "source": [
    "berkeley.groupby('Gender')['number_Admit'].mean()"
   ]
  },
  {
   "cell_type": "code",
   "execution_count": 11,
   "metadata": {},
   "outputs": [
    {
     "data": {
      "text/html": [
       "<div>\n",
       "<style scoped>\n",
       "    .dataframe tbody tr th:only-of-type {\n",
       "        vertical-align: middle;\n",
       "    }\n",
       "\n",
       "    .dataframe tbody tr th {\n",
       "        vertical-align: top;\n",
       "    }\n",
       "\n",
       "    .dataframe thead th {\n",
       "        text-align: right;\n",
       "    }\n",
       "</style>\n",
       "<table border=\"1\" class=\"dataframe\">\n",
       "  <thead>\n",
       "    <tr style=\"text-align: right;\">\n",
       "      <th></th>\n",
       "      <th>Admit</th>\n",
       "      <th>Gender</th>\n",
       "      <th>Dept</th>\n",
       "      <th>Freq</th>\n",
       "      <th>number_Admit</th>\n",
       "    </tr>\n",
       "  </thead>\n",
       "  <tbody>\n",
       "    <tr>\n",
       "      <th>13</th>\n",
       "      <td>Rejected</td>\n",
       "      <td>Male</td>\n",
       "      <td>D</td>\n",
       "      <td>279</td>\n",
       "      <td>0</td>\n",
       "    </tr>\n",
       "    <tr>\n",
       "      <th>16</th>\n",
       "      <td>Admitted</td>\n",
       "      <td>Male</td>\n",
       "      <td>E</td>\n",
       "      <td>53</td>\n",
       "      <td>1</td>\n",
       "    </tr>\n",
       "    <tr>\n",
       "      <th>17</th>\n",
       "      <td>Rejected</td>\n",
       "      <td>Male</td>\n",
       "      <td>E</td>\n",
       "      <td>138</td>\n",
       "      <td>0</td>\n",
       "    </tr>\n",
       "    <tr>\n",
       "      <th>20</th>\n",
       "      <td>Admitted</td>\n",
       "      <td>Male</td>\n",
       "      <td>F</td>\n",
       "      <td>22</td>\n",
       "      <td>1</td>\n",
       "    </tr>\n",
       "    <tr>\n",
       "      <th>21</th>\n",
       "      <td>Rejected</td>\n",
       "      <td>Male</td>\n",
       "      <td>F</td>\n",
       "      <td>351</td>\n",
       "      <td>0</td>\n",
       "    </tr>\n",
       "  </tbody>\n",
       "</table>\n",
       "</div>"
      ],
      "text/plain": [
       "       Admit Gender Dept  Freq  number_Admit\n",
       "13  Rejected   Male    D   279             0\n",
       "16  Admitted   Male    E    53             1\n",
       "17  Rejected   Male    E   138             0\n",
       "20  Admitted   Male    F    22             1\n",
       "21  Rejected   Male    F   351             0"
      ]
     },
     "execution_count": 11,
     "metadata": {},
     "output_type": "execute_result"
    }
   ],
   "source": [
    "berkeley_male = berkeley[berkeley['Gender']=='Male']\n",
    "berkeley_female = berkeley[berkeley['Gender']=='Female']\n",
    "berkeley_male.tail()"
   ]
  },
  {
   "cell_type": "code",
   "execution_count": 14,
   "metadata": {},
   "outputs": [],
   "source": [
    "applicants_male = berkeley_male['Freq'].sum()\n",
    "applicants_female = berkeley_female['Freq'].sum()"
   ]
  },
  {
   "cell_type": "code",
   "execution_count": 20,
   "metadata": {},
   "outputs": [
    {
     "name": "stdout",
     "output_type": "stream",
     "text": [
      "Male accpetance rate is 44.52 and female rate is 30.35\n"
     ]
    }
   ],
   "source": [
    "accepted_male = np.sum(berkeley_male['Freq'] * berkeley_male['number_Admit']) / applicants_male * 100\n",
    "accepted_female = np.sum(berkeley_female['Freq'] * berkeley_female['number_Admit']) / applicants_female * 100\n",
    "\n",
    "print(\"Male accpetance rate is %.2f and female rate is %.2f\" % (accepted_male, accepted_female))"
   ]
  },
  {
   "cell_type": "code",
   "execution_count": 21,
   "metadata": {},
   "outputs": [
    {
     "data": {
      "text/html": [
       "<div>\n",
       "<style scoped>\n",
       "    .dataframe tbody tr th:only-of-type {\n",
       "        vertical-align: middle;\n",
       "    }\n",
       "\n",
       "    .dataframe tbody tr th {\n",
       "        vertical-align: top;\n",
       "    }\n",
       "\n",
       "    .dataframe thead th {\n",
       "        text-align: right;\n",
       "    }\n",
       "</style>\n",
       "<table border=\"1\" class=\"dataframe\">\n",
       "  <thead>\n",
       "    <tr style=\"text-align: right;\">\n",
       "      <th></th>\n",
       "      <th>Admit</th>\n",
       "      <th>Gender</th>\n",
       "      <th>Dept</th>\n",
       "      <th>Freq</th>\n",
       "      <th>number_Admit</th>\n",
       "    </tr>\n",
       "  </thead>\n",
       "  <tbody>\n",
       "    <tr>\n",
       "      <th>0</th>\n",
       "      <td>Admitted</td>\n",
       "      <td>Male</td>\n",
       "      <td>A</td>\n",
       "      <td>512</td>\n",
       "      <td>1</td>\n",
       "    </tr>\n",
       "    <tr>\n",
       "      <th>2</th>\n",
       "      <td>Admitted</td>\n",
       "      <td>Female</td>\n",
       "      <td>A</td>\n",
       "      <td>89</td>\n",
       "      <td>1</td>\n",
       "    </tr>\n",
       "    <tr>\n",
       "      <th>4</th>\n",
       "      <td>Admitted</td>\n",
       "      <td>Male</td>\n",
       "      <td>B</td>\n",
       "      <td>353</td>\n",
       "      <td>1</td>\n",
       "    </tr>\n",
       "    <tr>\n",
       "      <th>6</th>\n",
       "      <td>Admitted</td>\n",
       "      <td>Female</td>\n",
       "      <td>B</td>\n",
       "      <td>17</td>\n",
       "      <td>1</td>\n",
       "    </tr>\n",
       "    <tr>\n",
       "      <th>8</th>\n",
       "      <td>Admitted</td>\n",
       "      <td>Male</td>\n",
       "      <td>C</td>\n",
       "      <td>120</td>\n",
       "      <td>1</td>\n",
       "    </tr>\n",
       "  </tbody>\n",
       "</table>\n",
       "</div>"
      ],
      "text/plain": [
       "      Admit  Gender Dept  Freq  number_Admit\n",
       "0  Admitted    Male    A   512             1\n",
       "2  Admitted  Female    A    89             1\n",
       "4  Admitted    Male    B   353             1\n",
       "6  Admitted  Female    B    17             1\n",
       "8  Admitted    Male    C   120             1"
      ]
     },
     "execution_count": 21,
     "metadata": {},
     "output_type": "execute_result"
    }
   ],
   "source": [
    "accepted = berkeley[berkeley['number_Admit']==1]\n",
    "rejected = berkeley[berkeley['number_Admit']==0]\n",
    "accepted.head()"
   ]
  },
  {
   "cell_type": "code",
   "execution_count": 22,
   "metadata": {},
   "outputs": [
    {
     "data": {
      "text/html": [
       "<div>\n",
       "<style scoped>\n",
       "    .dataframe tbody tr th:only-of-type {\n",
       "        vertical-align: middle;\n",
       "    }\n",
       "\n",
       "    .dataframe tbody tr th {\n",
       "        vertical-align: top;\n",
       "    }\n",
       "\n",
       "    .dataframe thead th {\n",
       "        text-align: right;\n",
       "    }\n",
       "</style>\n",
       "<table border=\"1\" class=\"dataframe\">\n",
       "  <thead>\n",
       "    <tr style=\"text-align: right;\">\n",
       "      <th></th>\n",
       "      <th>Admit</th>\n",
       "      <th>Gender</th>\n",
       "      <th>Dept</th>\n",
       "      <th>Freq</th>\n",
       "      <th>number_Admit</th>\n",
       "    </tr>\n",
       "  </thead>\n",
       "  <tbody>\n",
       "    <tr>\n",
       "      <th>0</th>\n",
       "      <td>Admitted</td>\n",
       "      <td>Male</td>\n",
       "      <td>A</td>\n",
       "      <td>512</td>\n",
       "      <td>1</td>\n",
       "    </tr>\n",
       "    <tr>\n",
       "      <th>2</th>\n",
       "      <td>Admitted</td>\n",
       "      <td>Female</td>\n",
       "      <td>A</td>\n",
       "      <td>89</td>\n",
       "      <td>1</td>\n",
       "    </tr>\n",
       "    <tr>\n",
       "      <th>4</th>\n",
       "      <td>Admitted</td>\n",
       "      <td>Male</td>\n",
       "      <td>B</td>\n",
       "      <td>353</td>\n",
       "      <td>1</td>\n",
       "    </tr>\n",
       "    <tr>\n",
       "      <th>6</th>\n",
       "      <td>Admitted</td>\n",
       "      <td>Female</td>\n",
       "      <td>B</td>\n",
       "      <td>17</td>\n",
       "      <td>1</td>\n",
       "    </tr>\n",
       "    <tr>\n",
       "      <th>8</th>\n",
       "      <td>Admitted</td>\n",
       "      <td>Male</td>\n",
       "      <td>C</td>\n",
       "      <td>120</td>\n",
       "      <td>1</td>\n",
       "    </tr>\n",
       "    <tr>\n",
       "      <th>10</th>\n",
       "      <td>Admitted</td>\n",
       "      <td>Female</td>\n",
       "      <td>C</td>\n",
       "      <td>202</td>\n",
       "      <td>1</td>\n",
       "    </tr>\n",
       "    <tr>\n",
       "      <th>12</th>\n",
       "      <td>Admitted</td>\n",
       "      <td>Male</td>\n",
       "      <td>D</td>\n",
       "      <td>138</td>\n",
       "      <td>1</td>\n",
       "    </tr>\n",
       "    <tr>\n",
       "      <th>14</th>\n",
       "      <td>Admitted</td>\n",
       "      <td>Female</td>\n",
       "      <td>D</td>\n",
       "      <td>131</td>\n",
       "      <td>1</td>\n",
       "    </tr>\n",
       "    <tr>\n",
       "      <th>16</th>\n",
       "      <td>Admitted</td>\n",
       "      <td>Male</td>\n",
       "      <td>E</td>\n",
       "      <td>53</td>\n",
       "      <td>1</td>\n",
       "    </tr>\n",
       "    <tr>\n",
       "      <th>18</th>\n",
       "      <td>Admitted</td>\n",
       "      <td>Female</td>\n",
       "      <td>E</td>\n",
       "      <td>94</td>\n",
       "      <td>1</td>\n",
       "    </tr>\n",
       "    <tr>\n",
       "      <th>20</th>\n",
       "      <td>Admitted</td>\n",
       "      <td>Male</td>\n",
       "      <td>F</td>\n",
       "      <td>22</td>\n",
       "      <td>1</td>\n",
       "    </tr>\n",
       "    <tr>\n",
       "      <th>22</th>\n",
       "      <td>Admitted</td>\n",
       "      <td>Female</td>\n",
       "      <td>F</td>\n",
       "      <td>24</td>\n",
       "      <td>1</td>\n",
       "    </tr>\n",
       "  </tbody>\n",
       "</table>\n",
       "</div>"
      ],
      "text/plain": [
       "       Admit  Gender Dept  Freq  number_Admit\n",
       "0   Admitted    Male    A   512             1\n",
       "2   Admitted  Female    A    89             1\n",
       "4   Admitted    Male    B   353             1\n",
       "6   Admitted  Female    B    17             1\n",
       "8   Admitted    Male    C   120             1\n",
       "10  Admitted  Female    C   202             1\n",
       "12  Admitted    Male    D   138             1\n",
       "14  Admitted  Female    D   131             1\n",
       "16  Admitted    Male    E    53             1\n",
       "18  Admitted  Female    E    94             1\n",
       "20  Admitted    Male    F    22             1\n",
       "22  Admitted  Female    F    24             1"
      ]
     },
     "execution_count": 22,
     "metadata": {},
     "output_type": "execute_result"
    }
   ],
   "source": [
    "accepted"
   ]
  },
  {
   "cell_type": "code",
   "execution_count": 23,
   "metadata": {},
   "outputs": [],
   "source": [
    "total_accepted = accepted['Freq'].sum()"
   ]
  },
  {
   "cell_type": "code",
   "execution_count": 24,
   "metadata": {},
   "outputs": [
    {
     "data": {
      "text/plain": [
       "Gender\n",
       "Female     557\n",
       "Male      1198\n",
       "Name: Freq, dtype: int64"
      ]
     },
     "execution_count": 24,
     "metadata": {},
     "output_type": "execute_result"
    }
   ],
   "source": [
    "accepted.groupby('Gender')['Freq'].sum()['Gender']"
   ]
  },
  {
   "cell_type": "code",
   "execution_count": 26,
   "metadata": {},
   "outputs": [
    {
     "name": "stdout",
     "output_type": "stream",
     "text": [
      "Among the admitted applicants, male made up for 68.26% and female for 31.74%\n"
     ]
    }
   ],
   "source": [
    "print(\"Among the admitted applicants, male made up for %.2f%% and female for %.2f%%\" % (1198*100/total_accepted, 557*100/total_accepted))"
   ]
  },
  {
   "cell_type": "code",
   "execution_count": 29,
   "metadata": {},
   "outputs": [],
   "source": [
    "berkeley_A = berkeley[berkeley['Dept']=='A']\n",
    "berkeley_B = berkeley[berkeley['Dept']=='B']\n",
    "berkeley_C = berkeley[berkeley['Dept']=='C']\n",
    "berkeley_D = berkeley[berkeley['Dept']=='D']\n",
    "berkeley_E = berkeley[berkeley['Dept']=='E']\n",
    "berkeley_F = berkeley[berkeley['Dept']=='F']"
   ]
  },
  {
   "cell_type": "code",
   "execution_count": 30,
   "metadata": {},
   "outputs": [
    {
     "data": {
      "text/html": [
       "<div>\n",
       "<style scoped>\n",
       "    .dataframe tbody tr th:only-of-type {\n",
       "        vertical-align: middle;\n",
       "    }\n",
       "\n",
       "    .dataframe tbody tr th {\n",
       "        vertical-align: top;\n",
       "    }\n",
       "\n",
       "    .dataframe thead th {\n",
       "        text-align: right;\n",
       "    }\n",
       "</style>\n",
       "<table border=\"1\" class=\"dataframe\">\n",
       "  <thead>\n",
       "    <tr style=\"text-align: right;\">\n",
       "      <th></th>\n",
       "      <th>Admit</th>\n",
       "      <th>Gender</th>\n",
       "      <th>Dept</th>\n",
       "      <th>Freq</th>\n",
       "      <th>number_Admit</th>\n",
       "    </tr>\n",
       "  </thead>\n",
       "  <tbody>\n",
       "    <tr>\n",
       "      <th>0</th>\n",
       "      <td>Admitted</td>\n",
       "      <td>Male</td>\n",
       "      <td>A</td>\n",
       "      <td>512</td>\n",
       "      <td>1</td>\n",
       "    </tr>\n",
       "    <tr>\n",
       "      <th>1</th>\n",
       "      <td>Rejected</td>\n",
       "      <td>Male</td>\n",
       "      <td>A</td>\n",
       "      <td>313</td>\n",
       "      <td>0</td>\n",
       "    </tr>\n",
       "    <tr>\n",
       "      <th>2</th>\n",
       "      <td>Admitted</td>\n",
       "      <td>Female</td>\n",
       "      <td>A</td>\n",
       "      <td>89</td>\n",
       "      <td>1</td>\n",
       "    </tr>\n",
       "    <tr>\n",
       "      <th>3</th>\n",
       "      <td>Rejected</td>\n",
       "      <td>Female</td>\n",
       "      <td>A</td>\n",
       "      <td>19</td>\n",
       "      <td>0</td>\n",
       "    </tr>\n",
       "  </tbody>\n",
       "</table>\n",
       "</div>"
      ],
      "text/plain": [
       "      Admit  Gender Dept  Freq  number_Admit\n",
       "0  Admitted    Male    A   512             1\n",
       "1  Rejected    Male    A   313             0\n",
       "2  Admitted  Female    A    89             1\n",
       "3  Rejected  Female    A    19             0"
      ]
     },
     "execution_count": 30,
     "metadata": {},
     "output_type": "execute_result"
    }
   ],
   "source": [
    "berkeley_A"
   ]
  },
  {
   "cell_type": "code",
   "execution_count": 31,
   "metadata": {},
   "outputs": [],
   "source": [
    "berkeley_A_acceptance_rate = np.sum(berkeley_A['Freq'] * berkeley_A['number_Admit']) / berkeley_A['Freq'].sum()\n",
    "berkeley_B_acceptance_rate = np.sum(berkeley_B['Freq'] * berkeley_B['number_Admit']) / berkeley_B['Freq'].sum()\n",
    "berkeley_C_acceptance_rate = np.sum(berkeley_C['Freq'] * berkeley_C['number_Admit']) / berkeley_C['Freq'].sum()\n",
    "berkeley_D_acceptance_rate = np.sum(berkeley_D['Freq'] * berkeley_D['number_Admit']) / berkeley_D['Freq'].sum()\n",
    "berkeley_E_acceptance_rate = np.sum(berkeley_E['Freq'] * berkeley_E['number_Admit']) / berkeley_E['Freq'].sum()\n",
    "berkeley_F_acceptance_rate = np.sum(berkeley_F['Freq'] * berkeley_F['number_Admit']) / berkeley_F['Freq'].sum()"
   ]
  },
  {
   "cell_type": "code",
   "execution_count": 37,
   "metadata": {},
   "outputs": [
    {
     "name": "stdout",
     "output_type": "stream",
     "text": [
      "The acceptance rate for each department is:\n",
      "\n",
      "A: 64.42%\n",
      "B: 25.17%\n",
      "C: 35.08%\n",
      "D: 33.96%\n",
      "E: 25.17%\n",
      "F: 6.44%\n"
     ]
    }
   ],
   "source": [
    "print(\"The acceptance rate for each department is:\")\n",
    "print()\n",
    "print(\"A: %.2f%%\" % (100*berkeley_A_acceptance_rate))\n",
    "print(\"B: %.2f%%\" % (100*berkeley_E_acceptance_rate))\n",
    "print(\"C: %.2f%%\" % (100*berkeley_C_acceptance_rate))\n",
    "print(\"D: %.2f%%\" % (100*berkeley_D_acceptance_rate))\n",
    "print(\"E: %.2f%%\" % (100*berkeley_E_acceptance_rate))\n",
    "print(\"F: %.2f%%\" % (100*berkeley_F_acceptance_rate))"
   ]
  },
  {
   "cell_type": "code",
   "execution_count": 39,
   "metadata": {},
   "outputs": [
    {
     "name": "stdout",
     "output_type": "stream",
     "text": [
      "total rate for A: 64.42%\n",
      "male rate for A: 62.06%\n",
      "female rate for A: 82.41%\n"
     ]
    }
   ],
   "source": [
    "berkeley_A_male = berkeley_A[berkeley_A['Gender']==\"Male\"]\n",
    "berkeley_A_female = berkeley_A[berkeley_A['Gender']==\"Female\"]\n",
    "\n",
    "print(\"total rate for A: %.2f%%\" % (100*berkeley_A_acceptance_rate))\n",
    "print(\"male rate for A: %.2f%%\" % (100*berkeley_A_male[berkeley_A_male[\"number_Admit\"]==1]['Freq'].sum()/berkeley_A_male[\"Freq\"].sum()))\n",
    "print(\"female rate for A: %.2f%%\" % (100*berkeley_A_female[berkeley_A_female[\"number_Admit\"]==1]['Freq'].sum()/berkeley_A_female[\"Freq\"].sum()))"
   ]
  },
  {
   "cell_type": "code",
   "execution_count": 40,
   "metadata": {},
   "outputs": [
    {
     "name": "stdout",
     "output_type": "stream",
     "text": [
      "total rate for B: 63.25%\n",
      "male rate for B: 63.04%\n",
      "female rate for B: 68.00%\n"
     ]
    }
   ],
   "source": [
    "berkeley_B_male = berkeley_B[berkeley_B['Gender']==\"Male\"]\n",
    "berkeley_B_female = berkeley_B[berkeley_B['Gender']==\"Female\"]\n",
    "\n",
    "print(\"total rate for B: %.2f%%\" % (100*berkeley_B_acceptance_rate))\n",
    "print(\"male rate for B: %.2f%%\" % (100*berkeley_B_male[berkeley_B_male[\"number_Admit\"]==1]['Freq'].sum()/berkeley_B_male[\"Freq\"].sum()))\n",
    "print(\"female rate for B: %.2f%%\" % (100*berkeley_B_female[berkeley_B_female[\"number_Admit\"]==1]['Freq'].sum()/berkeley_B_female[\"Freq\"].sum()))"
   ]
  },
  {
   "cell_type": "code",
   "execution_count": 41,
   "metadata": {},
   "outputs": [
    {
     "name": "stdout",
     "output_type": "stream",
     "text": [
      "total rate for C: 35.08%\n",
      "male rate for C: 36.92%\n",
      "female rate for C: 34.06%\n"
     ]
    }
   ],
   "source": [
    "berkeley_C_male = berkeley_C[berkeley_C['Gender']==\"Male\"]\n",
    "berkeley_C_female = berkeley_C[berkeley_C['Gender']==\"Female\"]\n",
    "\n",
    "print(\"total rate for C: %.2f%%\" % (100*berkeley_C_acceptance_rate))\n",
    "print(\"male rate for C: %.2f%%\" % (100*berkeley_C_male[berkeley_C_male[\"number_Admit\"]==1]['Freq'].sum()/berkeley_C_male[\"Freq\"].sum()))\n",
    "print(\"female rate for C: %.2f%%\" % (100*berkeley_C_female[berkeley_C_female[\"number_Admit\"]==1]['Freq'].sum()/berkeley_C_female[\"Freq\"].sum()))"
   ]
  },
  {
   "cell_type": "code",
   "execution_count": 42,
   "metadata": {},
   "outputs": [
    {
     "name": "stdout",
     "output_type": "stream",
     "text": [
      "total rate for D: 33.96%\n",
      "male rate for D: 33.09%\n",
      "female rate for D: 34.93%\n"
     ]
    }
   ],
   "source": [
    "berkeley_D_male = berkeley_D[berkeley_D['Gender']==\"Male\"]\n",
    "berkeley_D_female = berkeley_D[berkeley_D['Gender']==\"Female\"]\n",
    "\n",
    "print(\"total rate for D: %.2f%%\" % (100*berkeley_D_acceptance_rate))\n",
    "print(\"male rate for D: %.2f%%\" % (100*berkeley_D_male[berkeley_D_male[\"number_Admit\"]==1]['Freq'].sum()/berkeley_D_male[\"Freq\"].sum()))\n",
    "print(\"female rate for D: %.2f%%\" % (100*berkeley_D_female[berkeley_D_female[\"number_Admit\"]==1]['Freq'].sum()/berkeley_D_female[\"Freq\"].sum()))"
   ]
  },
  {
   "cell_type": "code",
   "execution_count": 43,
   "metadata": {},
   "outputs": [
    {
     "name": "stdout",
     "output_type": "stream",
     "text": [
      "total rate for C: 25.17%\n",
      "male rate for C: 27.75%\n",
      "female rate for C: 23.92%\n"
     ]
    }
   ],
   "source": [
    "berkeley_E_male = berkeley_E[berkeley_E['Gender']==\"Male\"]\n",
    "berkeley_E_female = berkeley_E[berkeley_E['Gender']==\"Female\"]\n",
    "\n",
    "print(\"total rate for C: %.2f%%\" % (100*berkeley_E_acceptance_rate))\n",
    "print(\"male rate for C: %.2f%%\" % (100*berkeley_E_male[berkeley_E_male[\"number_Admit\"]==1]['Freq'].sum()/berkeley_E_male[\"Freq\"].sum()))\n",
    "print(\"female rate for C: %.2f%%\" % (100*berkeley_E_female[berkeley_E_female[\"number_Admit\"]==1]['Freq'].sum()/berkeley_E_female[\"Freq\"].sum()))"
   ]
  },
  {
   "cell_type": "code",
   "execution_count": 44,
   "metadata": {},
   "outputs": [
    {
     "name": "stdout",
     "output_type": "stream",
     "text": [
      "total rate for F: 6.44%\n",
      "male rate for F: 5.90%\n",
      "female rate for F: 7.04%\n"
     ]
    }
   ],
   "source": [
    "berkeley_F_male = berkeley_F[berkeley_F['Gender']==\"Male\"]\n",
    "berkeley_F_female = berkeley_F[berkeley_F['Gender']==\"Female\"]\n",
    "\n",
    "print(\"total rate for F: %.2f%%\" % (100*berkeley_F_acceptance_rate))\n",
    "print(\"male rate for F: %.2f%%\" % (100*berkeley_F_male[berkeley_F_male[\"number_Admit\"]==1]['Freq'].sum()/berkeley_F_male[\"Freq\"].sum()))\n",
    "print(\"female rate for F: %.2f%%\" % (100*berkeley_F_female[berkeley_F_female[\"number_Admit\"]==1]['Freq'].sum()/berkeley_F_female[\"Freq\"].sum()))"
   ]
  },
  {
   "cell_type": "code",
   "execution_count": 45,
   "metadata": {},
   "outputs": [],
   "source": [
    "male_A = 100*berkeley_A_male[berkeley_A_male[\"number_Admit\"]==1]['Freq'].sum()/berkeley_A_male[\"Freq\"].sum()\n",
    "female_A = 100*berkeley_A_female[berkeley_A_female[\"number_Admit\"]==1]['Freq'].sum()/berkeley_A_female[\"Freq\"].sum()\n",
    "male_B = 100*berkeley_B_male[berkeley_B_male[\"number_Admit\"]==1]['Freq'].sum()/berkeley_B_male[\"Freq\"].sum()\n",
    "female_B = 100*berkeley_B_female[berkeley_B_female[\"number_Admit\"]==1]['Freq'].sum()/berkeley_B_female[\"Freq\"].sum()\n",
    "male_C = 100*berkeley_C_male[berkeley_C_male[\"number_Admit\"]==1]['Freq'].sum()/berkeley_C_male[\"Freq\"].sum()\n",
    "female_C = 100*berkeley_C_female[berkeley_C_female[\"number_Admit\"]==1]['Freq'].sum()/berkeley_C_female[\"Freq\"].sum()\n",
    "male_D = 100*berkeley_D_male[berkeley_D_male[\"number_Admit\"]==1]['Freq'].sum()/berkeley_D_male[\"Freq\"].sum()\n",
    "female_D = 100*berkeley_D_female[berkeley_D_female[\"number_Admit\"]==1]['Freq'].sum()/berkeley_D_female[\"Freq\"].sum()\n",
    "male_E = 100*berkeley_E_male[berkeley_E_male[\"number_Admit\"]==1]['Freq'].sum()/berkeley_E_male[\"Freq\"].sum()\n",
    "female_E = 100*berkeley_E_female[berkeley_E_female[\"number_Admit\"]==1]['Freq'].sum()/berkeley_E_female[\"Freq\"].sum()\n",
    "male_F = 100*berkeley_F_male[berkeley_F_male[\"number_Admit\"]==1]['Freq'].sum()/berkeley_F_male[\"Freq\"].sum()\n",
    "female_F = 100*berkeley_F_female[berkeley_F_female[\"number_Admit\"]==1]['Freq'].sum()/berkeley_F_female[\"Freq\"].sum()"
   ]
  },
  {
   "cell_type": "code",
   "execution_count": 48,
   "metadata": {},
   "outputs": [
    {
     "name": "stdout",
     "output_type": "stream",
     "text": [
      "62.06060606060606 23.918575063613233\n"
     ]
    }
   ],
   "source": [
    "print(male_A, female_E)"
   ]
  },
  {
   "cell_type": "code",
   "execution_count": 50,
   "metadata": {},
   "outputs": [
    {
     "data": {
      "image/png": "[encoded data removed]",
      "text/plain": [
       "<Figure size 432x288 with 1 Axes>"
      ]
     },
     "metadata": {
      "needs_background": "light"
     },
     "output_type": "display_data"
    }
   ],
   "source": [
    "from matplotlib import pyplot as plt\n",
    "%matplotlib inline\n",
    "x_labels=[male_A, female_A, male_B, female_B, male_C, female_C, male_D, female_D, male_E, female_E, male_F, female_F]\n",
    "plt.bar(np.arange(12), x_labels, align=\"center\", alpha=0.5)\n",
    "plt.xlabel(\"Sex_Departments\")\n",
    "plt.ylabel(\"Acceptance_rate\")\n",
    "plt.title(\"Sexual Discrimination??\")\n",
    "plt.show()"
   ]
  },
  {
   "cell_type": "code",
   "execution_count": 55,
   "metadata": {},
   "outputs": [
    {
     "data": {
      "image/png": "[encoded data removed]",
      "text/plain": [
       "<Figure size 432x288 with 1 Axes>"
      ]
     },
     "metadata": {
      "needs_background": "light"
     },
     "output_type": "display_data"
    }
   ],
   "source": [
    "###Source Code from Matplotlib Bar Library\n",
    "\n",
    "fig, ax = plt.subplots()\n",
    "index = np.arange(6)\n",
    "bar_width = 0.35\n",
    "opacity = 0.8\n",
    "\n",
    "means_male = [male_A, male_B, male_C, male_D, male_E, male_F]\n",
    "means_female = [female_A, female_B, female_C, female_D, female_E, female_F]\n",
    "\n",
    "rects1 = plt.bar(index, means_male, bar_width,\n",
    "alpha=opacity,\n",
    "color='b',\n",
    "label='Male')\n",
    " \n",
    "rects2 = plt.bar(index + bar_width, means_female, bar_width,\n",
    "alpha=opacity,\n",
    "color='r',\n",
    "label='Female')\n",
    " \n",
    "plt.xlabel('Sex and Depts')\n",
    "plt.ylabel('Acceptance Rate')\n",
    "plt.title('Sexual Discrimination??')\n",
    "plt.xticks(index + bar_width, ('A', 'B', 'C', 'D', 'E', 'F'))\n",
    "plt.legend()\n",
    " \n",
    "plt.tight_layout()\n",
    "plt.show()"
   ]
  },
  {
   "cell_type": "code",
   "execution_count": null,
   "metadata": {},
   "outputs": [],
   "source": []
  }
 ],
 "metadata": {
  "kernelspec": {
   "display_name": "Python 3",
   "language": "python",
   "name": "python3"
  },
  "language_info": {
   "codemirror_mode": {
    "name": "ipython",
    "version": 3
   },
   "file_extension": ".py",
   "mimetype": "text/x-python",
   "name": "python",
   "nbconvert_exporter": "python",
   "pygments_lexer": "ipython3",
   "version": "3.7.2"
  }
 },
 "nbformat": 4,
 "nbformat_minor": 2
}
