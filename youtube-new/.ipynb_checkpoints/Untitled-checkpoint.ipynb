{
 "cells": [
  {
   "cell_type": "code",
   "execution_count": 5,
   "metadata": {
    "ExecuteTime": {
     "end_time": "2019-08-03T06:13:17.401249Z",
     "start_time": "2019-08-03T06:13:17.394257Z"
    }
   },
   "outputs": [],
   "source": [
    "import os\n",
    "import numpy as np\n",
    "import pandas as pd\n",
    "import matplotlib.pyplot as plt\n",
    "import warnings\n",
    "warnings.filterwarnings(\"ignore\")"
   ]
  },
  {
   "cell_type": "code",
   "execution_count": 4,
   "metadata": {
    "ExecuteTime": {
     "end_time": "2019-08-03T06:12:05.017069Z",
     "start_time": "2019-08-03T06:12:02.471457Z"
    }
   },
   "outputs": [
    {
     "name": "stdout",
     "output_type": "stream",
     "text": [
      "<class 'pandas.core.frame.DataFrame'>\n",
      "RangeIndex: 34567 entries, 0 to 34566\n",
      "Data columns (total 16 columns):\n",
      "video_id                  34567 non-null object\n",
      "trending_date             34567 non-null object\n",
      "title                     34567 non-null object\n",
      "channel_title             34567 non-null object\n",
      "category_id               34567 non-null int64\n",
      "publish_time              34567 non-null object\n",
      "tags                      34567 non-null object\n",
      "views                     34567 non-null int64\n",
      "likes                     34567 non-null int64\n",
      "dislikes                  34567 non-null int64\n",
      "comment_count             34567 non-null int64\n",
      "thumbnail_link            34567 non-null object\n",
      "comments_disabled         34567 non-null bool\n",
      "ratings_disabled          34567 non-null bool\n",
      "video_error_or_removed    34567 non-null bool\n",
      "description               31404 non-null object\n",
      "dtypes: bool(3), int64(5), object(8)\n",
      "memory usage: 3.5+ MB\n"
     ]
    }
   ],
   "source": [
    "df = pd.read_csv(\"KRvideos.csv\", engine='python')\n",
    "df.info()"
   ]
  },
  {
   "cell_type": "code",
   "execution_count": null,
   "metadata": {},
   "outputs": [],
   "source": []
  }
 ],
 "metadata": {
  "kernelspec": {
   "display_name": "Python 3",
   "language": "python",
   "name": "python3"
  },
  "language_info": {
   "codemirror_mode": {
    "name": "ipython",
    "version": 3
   },
   "file_extension": ".py",
   "mimetype": "text/x-python",
   "name": "python",
   "nbconvert_exporter": "python",
   "pygments_lexer": "ipython3",
   "version": "3.7.2"
  }
 },
 "nbformat": 4,
 "nbformat_minor": 2
}
